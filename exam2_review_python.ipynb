{
 "cells": [
  {
   "cell_type": "code",
   "execution_count": 1,
   "metadata": {},
   "outputs": [],
   "source": [
    "class Cat():\n",
    "    \"\"\"A simple attempt to model a cat\"\"\"\n",
    "    \n",
    "    def __init__(self, name, age):\n",
    "        \"\"\"Initialize name and age attributes\"\"\"\n",
    "        self.name = name\n",
    "        self.age = age    # in months\n",
    "        \n",
    "    def sleep(self):\n",
    "        \"\"\"Simulate a cat sleeping\"\"\"\n",
    "        print(self.name.title() + ' is now sleeping.')\n",
    "        \n",
    "    def destroy(self):\n",
    "        \"\"\"simulate a cat eating\"\"\"\n",
    "        print(self.name.title() + ' is now destroying my home.')\n",
    "       \n",
    "    def __str__(self):\n",
    "        \"\"\"Returns a string representation of self\"\"\"\n",
    "        return 'The cat ' + self.name + ' is ' + str(self.age) + ' months old.'\n",
    "        "
   ]
  },
  {
   "cell_type": "code",
   "execution_count": 2,
   "metadata": {},
   "outputs": [],
   "source": [
    "myCat = Cat('Slash', 5)"
   ]
  },
  {
   "cell_type": "code",
   "execution_count": 3,
   "metadata": {},
   "outputs": [
    {
     "name": "stdout",
     "output_type": "stream",
     "text": [
      "Slash is now sleeping.\n"
     ]
    }
   ],
   "source": [
    "myCat.sleep()"
   ]
  },
  {
   "cell_type": "code",
   "execution_count": 4,
   "metadata": {},
   "outputs": [
    {
     "name": "stdout",
     "output_type": "stream",
     "text": [
      "The cat Slash is 5 months old.\n"
     ]
    }
   ],
   "source": [
    "print(myCat)"
   ]
  },
  {
   "cell_type": "code",
   "execution_count": null,
   "metadata": {},
   "outputs": [],
   "source": []
  },
  {
   "cell_type": "code",
   "execution_count": 5,
   "metadata": {},
   "outputs": [],
   "source": [
    "class Car():\n",
    "    \"\"\"A simple attempt to respresent a computer\"\"\"\n",
    "    \n",
    "    def __init__(self, make, model, year):\n",
    "        self.make = make\n",
    "        self.model = model\n",
    "        self.year = year\n",
    "        self.odometer = 0\n",
    "        \n",
    "    def __str__(self):\n",
    "        \"\"\"Returns a string representing self.\"\"\"\n",
    "        return str(self.year) + ' ' + self.make + ' ' + self.model\n",
    "    \n",
    "    def update_odometer(self, mileage):\n",
    "        \"\"\"set the odometer reading to the given value\n",
    "        Reject the change if it attempts to roll the odometer back.\"\"\"\n",
    "        if mileage >= self.odometer: \n",
    "            self.odometer = mileage\n",
    "        else:\n",
    "            print(\"You can not roll back an odometer!\")\n",
    "    \n",
    "    def increment_odometer(self, mileage):\n",
    "        \"\"\"Add the given amount to the odometer reading\"\"\"\n",
    "        self.odometer += mileage\n",
    "    \n",
    "    def read_odometer(self):\n",
    "        \"\"\"Print a statement showing the car's mileage.\"\"\"\n",
    "        print('This car has ' + str(self.odometer) + ' miles on it.' )"
   ]
  },
  {
   "cell_type": "code",
   "execution_count": 6,
   "metadata": {},
   "outputs": [
    {
     "name": "stdout",
     "output_type": "stream",
     "text": [
      "1988 Pontiac Sunbird\n",
      "This car has 0 miles on it.\n"
     ]
    }
   ],
   "source": [
    "FirstCar = Car('Pontiac', 'Sunbird', 1988) #My first car\n",
    "print(FirstCar)\n",
    "FirstCar.read_odometer()"
   ]
  },
  {
   "cell_type": "code",
   "execution_count": 7,
   "metadata": {},
   "outputs": [],
   "source": [
    "FirstCar.update_odometer(20000)"
   ]
  },
  {
   "cell_type": "code",
   "execution_count": 8,
   "metadata": {},
   "outputs": [
    {
     "name": "stdout",
     "output_type": "stream",
     "text": [
      "This car has 20000 miles on it.\n"
     ]
    }
   ],
   "source": [
    "FirstCar.read_odometer()"
   ]
  },
  {
   "cell_type": "code",
   "execution_count": 9,
   "metadata": {},
   "outputs": [
    {
     "name": "stdout",
     "output_type": "stream",
     "text": [
      "You can not roll back an odometer!\n",
      "This car has 20050 miles on it.\n"
     ]
    }
   ],
   "source": [
    "FirstCar.update_odometer(50)\n",
    "FirstCar.increment_odometer(50)\n",
    "FirstCar.read_odometer()"
   ]
  },
  {
   "cell_type": "code",
   "execution_count": 10,
   "metadata": {},
   "outputs": [],
   "source": [
    "CurrentCar = Car('Kia', 'Optima', 2015)  #My current car"
   ]
  },
  {
   "cell_type": "code",
   "execution_count": 11,
   "metadata": {},
   "outputs": [
    {
     "name": "stdout",
     "output_type": "stream",
     "text": [
      "This car has 4950 miles on it.\n"
     ]
    }
   ],
   "source": [
    "for mile in range(100):\n",
    "    CurrentCar.increment_odometer(mile)\n",
    "    \n",
    "CurrentCar.read_odometer()"
   ]
  },
  {
   "cell_type": "code",
   "execution_count": 12,
   "metadata": {},
   "outputs": [],
   "source": [
    "import numpy as np\n",
    "import matplotlib.pyplot as plt\n",
    "\n",
    "class Parabola():\n",
    "\n",
    "    def __init__(self, a, b, c):\n",
    "        self.a = a\n",
    "        self.b = b\n",
    "        self.c = c\n",
    "    \n",
    "    def f(self, x):\n",
    "        return self.a * x**2 + self.b*x +self.c\n",
    "    \n",
    "    def __str__(self):\n",
    "        return str(self.a) +'x^2 + ' + str(self.b) + 'x + ' + str(self.c)\n",
    "    \n",
    "    def vertex_x(self):\n",
    "        if self.a == 0:\n",
    "            print('There is no vertex for a line')\n",
    "        else:\n",
    "            return -1*self.b /(2.0 * self.a)\n",
    "        \n",
    "    def vertex_y(self):\n",
    "        if self.a == 0:\n",
    "            print('There is no vertex for a line')\n",
    "        else:\n",
    "            return self.f( self.vertex_x() )\n",
    "        \n",
    "    def print_vertex(self):\n",
    "        print('The vertex is ( ' + str(self.vertex_x()) + ' , ' + str(self.vertex_y()) + ' )')\n",
    "        \n",
    "    def graph(self):\n",
    "        listx = np.arange(-5., 5., 0.2) + self.vertex_x() #puts the vertex in the middle\n",
    "        plt.plot(listx, self.f( listx ), 'r-')\n",
    "        plt.xlabel('x-values')\n",
    "        plt.ylabel('y-values')\n",
    "        plt.title(str(self.a) +  r'$x^2 +$'  +  str(self.b) + r'$x + $' + str(self.b))\n",
    "        plt.plot(self.vertex_x(),self.vertex_y(),'ro',label = 'Vertex') \n",
    "        if self.a > 0:\n",
    "            plt.annotate('Minimum', xy=(self.vertex_x(), self.vertex_y()), xytext=(self.vertex_y()+5, self.vertex_y()-2),arrowprops=dict(facecolor='black', shrink=0.05),)\n",
    "        elif self.a < 0:\n",
    "            plt.annotate('Maximum', xy=(self.vertex_x(), self.vertex_y()), xytext=(self.vertex_x()-5, self.vertex_y()-2),arrowprops=dict(facecolor='black', shrink=0.05),)\n",
    "        plt.legend()\n",
    "        plt.show()\n",
    "        "
   ]
  },
  {
   "cell_type": "code",
   "execution_count": 13,
   "metadata": {},
   "outputs": [
    {
     "name": "stdout",
     "output_type": "stream",
     "text": [
      "-1x^2 + 2x + 3\n"
     ]
    }
   ],
   "source": [
    "func = Parabola(-1,2,3)\n",
    "print(func)"
   ]
  },
  {
   "cell_type": "code",
   "execution_count": 14,
   "metadata": {},
   "outputs": [
    {
     "data": {
      "text/plain": [
       "4"
      ]
     },
     "execution_count": 14,
     "metadata": {},
     "output_type": "execute_result"
    }
   ],
   "source": [
    "func.f(1)"
   ]
  },
  {
   "cell_type": "code",
   "execution_count": 15,
   "metadata": {},
   "outputs": [
    {
     "name": "stdout",
     "output_type": "stream",
     "text": [
      "The vertex is ( 1.0 , 4.0 )\n"
     ]
    }
   ],
   "source": [
    "func.print_vertex()"
   ]
  },
  {
   "cell_type": "code",
   "execution_count": 16,
   "metadata": {},
   "outputs": [
    {
     "data": {
      "text/plain": [
       "4.0"
      ]
     },
     "execution_count": 16,
     "metadata": {},
     "output_type": "execute_result"
    }
   ],
   "source": [
    "func.vertex_y()"
   ]
  },
  {
   "cell_type": "code",
   "execution_count": 17,
   "metadata": {},
   "outputs": [
    {
     "data": {
      "image/png": "[encoded data removed]",
      "text/plain": [
       "<Figure size 432x288 with 1 Axes>"
      ]
     },
     "metadata": {
      "needs_background": "light"
     },
     "output_type": "display_data"
    }
   ],
   "source": [
    "func.graph()"
   ]
  },
  {
   "cell_type": "code",
   "execution_count": null,
   "metadata": {},
   "outputs": [],
   "source": []
  }
 ],
 "metadata": {
  "kernelspec": {
   "display_name": "Python 3",
   "language": "python",
   "name": "python3"
  },
  "language_info": {
   "codemirror_mode": {
    "name": "ipython",
    "version": 3
   },
   "file_extension": ".py",
   "mimetype": "text/x-python",
   "name": "python",
   "nbconvert_exporter": "python",
   "pygments_lexer": "ipython3",
   "version": "3.7.3"
  }
 },
 "nbformat": 4,
 "nbformat_minor": 2
}
