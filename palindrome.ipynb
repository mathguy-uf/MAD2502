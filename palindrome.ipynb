{
 "cells": [
  {
   "cell_type": "code",
   "execution_count": 8,
   "metadata": {},
   "outputs": [],
   "source": [
    "def isPalindrome(s):\n",
    "    \"\"\"Assumes s is a string\n",
    "       Returns True if the letters in s form a palindrome;\n",
    "       False otherwise. Non-letters and capitalization are ignored\"\"\"\n",
    "    \n",
    "    def toChars(s):\n",
    "        s=s.lower()\n",
    "        letters=''\n",
    "        for c in s:\n",
    "            if c in 'abcdefghijklmnopqrstuvwxyz':\n",
    "                letters= letters+c\n",
    "        return letters\n",
    "    \n",
    "    def isPal(s):\n",
    "        if len(s)<=1:\n",
    "            return True\n",
    "        else:\n",
    "            return s[0] == s[-1] and isPal(s[1:-1])\n",
    "    \n",
    "    return isPal(toChars(s))"
   ]
  },
  {
   "cell_type": "code",
   "execution_count": 9,
   "metadata": {},
   "outputs": [
    {
     "data": {
      "text/plain": [
       "True"
      ]
     },
     "execution_count": 9,
     "metadata": {},
     "output_type": "execute_result"
    }
   ],
   "source": [
    "isPalindrome('racecar')"
   ]
  },
  {
   "cell_type": "code",
   "execution_count": 10,
   "metadata": {},
   "outputs": [
    {
     "data": {
      "text/plain": [
       "True"
      ]
     },
     "execution_count": 10,
     "metadata": {},
     "output_type": "execute_result"
    }
   ],
   "source": [
    "isPalindrome('race car')"
   ]
  },
  {
   "cell_type": "code",
   "execution_count": 1,
   "metadata": {},
   "outputs": [],
   "source": [
    "def isPalindrome(s):\n",
    "    \"\"\"Assumes s is a string\n",
    "       Returns True if the letters in s form a palindrome;\n",
    "       False otherwise. Non-letters and capitalization are ignored\"\"\"\n",
    "    \n",
    "    def toChars(s):\n",
    "        s=s.lower()\n",
    "        letters=''\n",
    "        for c in s:\n",
    "            if c in 'abcdefghijklmnopqrstuvwxyz':\n",
    "                letters= letters+c\n",
    "        return letters\n",
    "    \n",
    "    def isPal(s):\n",
    "        print(\"isPal is called with\",s)\n",
    "        if len(s)<=1:\n",
    "            print(\"About to return True from base case\")\n",
    "            return True\n",
    "        else:\n",
    "            answer=(s[0]==s[-1] and isPal(s[1:-1]))\n",
    "            print(\"About to return\",answer, \"for\", s)\n",
    "            return answer\n",
    "    \n",
    "    return isPal(toChars(s))"
   ]
  },
  {
   "cell_type": "code",
   "execution_count": 3,
   "metadata": {},
   "outputs": [
    {
     "name": "stdout",
     "output_type": "stream",
     "text": [
      "isPal is called with racecar\n",
      "isPal is called with aceca\n",
      "isPal is called with cec\n",
      "isPal is called with e\n",
      "About to return True from base case\n",
      "About to return True for cec\n",
      "About to return True for aceca\n",
      "About to return True for racecar\n"
     ]
    },
    {
     "data": {
      "text/plain": [
       "True"
      ]
     },
     "execution_count": 3,
     "metadata": {},
     "output_type": "execute_result"
    }
   ],
   "source": [
    "isPalindrome('race car')"
   ]
  },
  {
   "cell_type": "code",
   "execution_count": 4,
   "metadata": {},
   "outputs": [
    {
     "name": "stdout",
     "output_type": "stream",
     "text": [
      "isPal is called with racecars\n",
      "About to return False for racecars\n"
     ]
    },
    {
     "data": {
      "text/plain": [
       "False"
      ]
     },
     "execution_count": 4,
     "metadata": {},
     "output_type": "execute_result"
    }
   ],
   "source": [
    "isPalindrome('race cars')"
   ]
  },
  {
   "cell_type": "code",
   "execution_count": 5,
   "metadata": {},
   "outputs": [
    {
     "name": "stdout",
     "output_type": "stream",
     "text": [
      "isPal is called with gooddog\n",
      "isPal is called with ooddo\n",
      "isPal is called with odd\n",
      "About to return False for odd\n",
      "About to return False for ooddo\n",
      "About to return False for gooddog\n"
     ]
    },
    {
     "data": {
      "text/plain": [
       "False"
      ]
     },
     "execution_count": 5,
     "metadata": {},
     "output_type": "execute_result"
    }
   ],
   "source": [
    "isPalindrome('Good Dog')"
   ]
  },
  {
   "cell_type": "code",
   "execution_count": null,
   "metadata": {},
   "outputs": [],
   "source": []
  }
 ],
 "metadata": {
  "kernelspec": {
   "display_name": "Python 3",
   "language": "python",
   "name": "python3"
  },
  "language_info": {
   "codemirror_mode": {
    "name": "ipython",
    "version": 3
   },
   "file_extension": ".py",
   "mimetype": "text/x-python",
   "name": "python",
   "nbconvert_exporter": "python",
   "pygments_lexer": "ipython3",
   "version": "3.7.4"
  }
 },
 "nbformat": 4,
 "nbformat_minor": 2
}
