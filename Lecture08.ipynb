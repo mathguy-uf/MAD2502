{
 "cells": [
  {
   "cell_type": "code",
   "execution_count": 48,
   "metadata": {},
   "outputs": [],
   "source": [
    "def fib(n):\n",
    "    \"\"\"Assume n an int>=0\n",
    "      Returns Fibonacci of n\"\"\"\n",
    "    if n==0 or n==1:\n",
    "        return 1\n",
    "    else:\n",
    "        return fib(n-1)+fib(n-2)"
   ]
  },
  {
   "cell_type": "code",
   "execution_count": 49,
   "metadata": {},
   "outputs": [
    {
     "name": "stdout",
     "output_type": "stream",
     "text": [
      "old L is: [1, 5, 10]\n",
      "new L is: [1, 8, 89]\n"
     ]
    }
   ],
   "source": [
    "L=[1,5,10]\n",
    "print(\"old L is:\",L)\n",
    "L=list(map(fib,L))\n",
    "print(\"new L is:\",L)"
   ]
  },
  {
   "cell_type": "code",
   "execution_count": 9,
   "metadata": {},
   "outputs": [],
   "source": [
    "my_numbers = [1, 2, 3.14, 4]\n",
    "systems = ['GameCube', 'Jaguar', 'Dreamcast','Philips CD-i']\n",
    "change = [1, 'pennies', 2, 'dimes', 3, 'quarters']"
   ]
  },
  {
   "cell_type": "code",
   "execution_count": 10,
   "metadata": {},
   "outputs": [
    {
     "name": "stdout",
     "output_type": "stream",
     "text": [
      "This is my number: 1\n",
      "This is my number: 2\n",
      "This is my number: 3.14\n",
      "This is my number: 4\n",
      "A popular video game console is:  GameCube\n",
      "A popular video game console is:  Jaguar\n",
      "A popular video game console is:  Dreamcast\n",
      "A popular video game console is:  Philips CD-i\n",
      "I have:  1\n",
      "I have:  pennies\n",
      "I have:  2\n",
      "I have:  dimes\n",
      "I have:  3\n",
      "I have:  quarters\n"
     ]
    }
   ],
   "source": [
    "for number in my_numbers:\n",
    "    print(\"This is my number:\", number)\n",
    "    \n",
    "for system in systems:\n",
    "    print(\"A popular video game console is: \", system)\n",
    "    \n",
    "for i in change:\n",
    "    print(\"I have: \", i)"
   ]
  },
  {
   "cell_type": "code",
   "execution_count": 15,
   "metadata": {},
   "outputs": [
    {
     "name": "stdout",
     "output_type": "stream",
     "text": [
      "A popular video game console is:  GameCube\n",
      "A popular video game console is:  Jaguar\n",
      "A popular video game console is:  Dreamcast\n",
      "A popular video game console is:  Philips CD-i\n"
     ]
    }
   ],
   "source": [
    "for k in range(len(systems)):\n",
    "    print(\"A popular video game console is: \", systems[k])\n",
    "    "
   ]
  },
  {
   "cell_type": "code",
   "execution_count": 12,
   "metadata": {},
   "outputs": [
    {
     "name": "stdout",
     "output_type": "stream",
     "text": [
      "1\n",
      "2\n"
     ]
    }
   ],
   "source": [
    "for i in range(1,3):\n",
    "    print(i)"
   ]
  },
  {
   "cell_type": "code",
   "execution_count": 71,
   "metadata": {},
   "outputs": [],
   "source": [
    "released= {\n",
    "    \"NES\" : 1983,\n",
    "    \"SNES\": 1990,\n",
    "    \"N64\" : 1996\n",
    "}"
   ]
  },
  {
   "cell_type": "code",
   "execution_count": 90,
   "metadata": {},
   "outputs": [
    {
     "name": "stdout",
     "output_type": "stream",
     "text": [
      "{'NES': 1983, 'SNES': 1990, 'N64': 1996, 'GameCube': 2001}\n",
      "dict_keys(['NES', 'SNES', 'N64', 'GameCube'])\n",
      "dict_values([1983, 1990, 1996, 2001])\n"
     ]
    }
   ],
   "source": [
    "print(released)\n",
    "print(released.keys())\n",
    "print(released.values())\n",
    "#syntax is: myDict[key]=\"value\"\n",
    "released[\"GameCube\"]=2001"
   ]
  },
  {
   "cell_type": "code",
   "execution_count": 91,
   "metadata": {},
   "outputs": [
    {
     "name": "stdout",
     "output_type": "stream",
     "text": [
      "{'NES': 1983, 'SNES': 1990, 'N64': 1996, 'GameCube': 2001}\n",
      "Key NOT found\n",
      "Key NOT found\n",
      "Key NOT found\n",
      "Key Found!\n"
     ]
    }
   ],
   "source": [
    "\n",
    "print(released)\n",
    "for key in released:\n",
    "    if \"GameCube\" in key:\n",
    "        print(\"Key Found!\")\n",
    "    else:\n",
    "        print(\"Key NOT found\")"
   ]
  },
  {
   "cell_type": "code",
   "execution_count": 81,
   "metadata": {},
   "outputs": [
    {
     "data": {
      "text/plain": [
       "True"
      ]
     },
     "execution_count": 81,
     "metadata": {},
     "output_type": "execute_result"
    }
   ],
   "source": [
    "\"NES\" in released"
   ]
  },
  {
   "cell_type": "code",
   "execution_count": 82,
   "metadata": {},
   "outputs": [
    {
     "data": {
      "text/plain": [
       "False"
      ]
     },
     "execution_count": 82,
     "metadata": {},
     "output_type": "execute_result"
    }
   ],
   "source": [
    "\"Wii\" in released"
   ]
  },
  {
   "cell_type": "code",
   "execution_count": 83,
   "metadata": {},
   "outputs": [
    {
     "data": {
      "text/plain": [
       "1983"
      ]
     },
     "execution_count": 83,
     "metadata": {},
     "output_type": "execute_result"
    }
   ],
   "source": [
    "released[\"NES\"]"
   ]
  },
  {
   "cell_type": "code",
   "execution_count": 88,
   "metadata": {},
   "outputs": [
    {
     "name": "stdout",
     "output_type": "stream",
     "text": [
      "NES --> 1983\n",
      "SNES --> 1990\n",
      "N64 --> 1996\n",
      "GameCube --> 2001\n"
     ]
    }
   ],
   "source": [
    "for key, value in released.items():\n",
    "    print(key,\"-->\",value)"
   ]
  },
  {
   "cell_type": "code",
   "execution_count": 96,
   "metadata": {},
   "outputs": [
    {
     "name": "stdout",
     "output_type": "stream",
     "text": [
      "GameCube\n"
     ]
    }
   ],
   "source": [
    "for key, value in released.items():\n",
    "\tif(value==2001):\n",
    "\t\tprint(key)"
   ]
  },
  {
   "cell_type": "code",
   "execution_count": 101,
   "metadata": {},
   "outputs": [],
   "source": [
    "sentence=\"This is a sentence\""
   ]
  },
  {
   "cell_type": "code",
   "execution_count": 105,
   "metadata": {},
   "outputs": [
    {
     "data": {
      "text/plain": [
       "'This is a sentence'"
      ]
     },
     "execution_count": 105,
     "metadata": {},
     "output_type": "execute_result"
    }
   ],
   "source": [
    "sentence[:]"
   ]
  },
  {
   "cell_type": "code",
   "execution_count": 106,
   "metadata": {},
   "outputs": [
    {
     "name": "stdout",
     "output_type": "stream",
     "text": [
      "NES --> 1983\n",
      "SNES --> 1990\n",
      "N64 --> 1996\n",
      "GameCube --> 2001\n"
     ]
    }
   ],
   "source": [
    "for system, year in released.items():\n",
    "    print(system,\"-->\",year)"
   ]
  },
  {
   "cell_type": "code",
   "execution_count": null,
   "metadata": {},
   "outputs": [],
   "source": []
  }
 ],
 "metadata": {
  "kernelspec": {
   "display_name": "Python 3",
   "language": "python",
   "name": "python3"
  },
  "language_info": {
   "codemirror_mode": {
    "name": "ipython",
    "version": 3
   },
   "file_extension": ".py",
   "mimetype": "text/x-python",
   "name": "python",
   "nbconvert_exporter": "python",
   "pygments_lexer": "ipython3",
   "version": "3.7.4"
  }
 },
 "nbformat": 4,
 "nbformat_minor": 2
}
